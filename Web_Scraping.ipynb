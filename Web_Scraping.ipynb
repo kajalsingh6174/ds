{
  "nbformat": 4,
  "nbformat_minor": 0,
  "metadata": {
    "colab": {
      "name": " Web Scraping.ipynb",
      "provenance": [],
      "include_colab_link": true
    },
    "kernelspec": {
      "name": "python3",
      "display_name": "Python 3"
    },
    "language_info": {
      "name": "python"
    }
  },
  "cells": [
    {
      "cell_type": "markdown",
      "metadata": {
        "id": "view-in-github",
        "colab_type": "text"
      },
      "source": [
        "<a href=\"https://colab.research.google.com/github/kajalsingh6174/ds/blob/main/Web_Scraping.ipynb\" target=\"_parent\"><img src=\"https://colab.research.google.com/assets/colab-badge.svg\" alt=\"Open In Colab\"/></a>"
      ]
    },
    {
      "cell_type": "markdown",
      "source": [
        "### BeautifulSoup"
      ],
      "metadata": {
        "id": "FU1l2b7C4XTW"
      }
    },
    {
      "cell_type": "code",
      "execution_count": null,
      "metadata": {
        "id": "RuA56ce0M2G6"
      },
      "outputs": [],
      "source": [
        "from bs4 import BeautifulSoup"
      ]
    },
    {
      "cell_type": "code",
      "source": [
        "import requests"
      ],
      "metadata": {
        "id": "WJQYTXtMSg5K"
      },
      "execution_count": null,
      "outputs": []
    },
    {
      "cell_type": "code",
      "source": [
        "flipkart = requests.get(\"https://www.flipkart.com/search?q=realme+mobile\")"
      ],
      "metadata": {
        "id": "K8O4vapFSqvv"
      },
      "execution_count": null,
      "outputs": []
    },
    {
      "cell_type": "code",
      "source": [
        "print(flipkart.content)"
      ],
      "metadata": {
        "id": "N8btC5azTVZL"
      },
      "execution_count": null,
      "outputs": []
    },
    {
      "cell_type": "code",
      "source": [
        "type(flipkart.content)"
      ],
      "metadata": {
        "id": "y_dNbihoTY1w"
      },
      "execution_count": null,
      "outputs": []
    },
    {
      "cell_type": "code",
      "source": [
        "flipkart.text"
      ],
      "metadata": {
        "id": "sW3kEvTgT4Pi"
      },
      "execution_count": null,
      "outputs": []
    },
    {
      "cell_type": "code",
      "source": [
        "type(flipkart.content)"
      ],
      "metadata": {
        "colab": {
          "base_uri": "https://localhost:8080/"
        },
        "id": "vMvffZA1T-Rl",
        "outputId": "4c94e68b-f520-448e-b90f-ca8bfa5201ba"
      },
      "execution_count": null,
      "outputs": [
        {
          "output_type": "execute_result",
          "data": {
            "text/plain": [
              "bytes"
            ]
          },
          "metadata": {},
          "execution_count": 47
        }
      ]
    },
    {
      "cell_type": "code",
      "source": [
        "soup = BeautifulSoup(flipkart.text, \"html.parser\")"
      ],
      "metadata": {
        "id": "6JQTYyeJUCdn"
      },
      "execution_count": null,
      "outputs": []
    },
    {
      "cell_type": "code",
      "source": [
        "print(soup.prettify)"
      ],
      "metadata": {
        "id": "QXLsAzJUU4Dc"
      },
      "execution_count": null,
      "outputs": []
    },
    {
      "cell_type": "code",
      "source": [
        "soup.title"
      ],
      "metadata": {
        "id": "jiPO_WUYU41-"
      },
      "execution_count": null,
      "outputs": []
    },
    {
      "cell_type": "code",
      "source": [
        "soup.title.text\n"
      ],
      "metadata": {
        "id": "WzVywth3Wwlk"
      },
      "execution_count": null,
      "outputs": []
    },
    {
      "cell_type": "code",
      "source": [
        "soup.p"
      ],
      "metadata": {
        "id": "kK0w45A_W8Bl"
      },
      "execution_count": null,
      "outputs": []
    },
    {
      "cell_type": "code",
      "source": [
        "soup.div.text"
      ],
      "metadata": {
        "id": "S_fApnV_W_Pe"
      },
      "execution_count": null,
      "outputs": []
    },
    {
      "cell_type": "code",
      "source": [
        "mobile = soup.find(\"div\", class_=\"_1AtVbE\")"
      ],
      "metadata": {
        "id": "Ap8B6it3XDps"
      },
      "execution_count": null,
      "outputs": []
    },
    {
      "cell_type": "code",
      "source": [
        "mobile"
      ],
      "metadata": {
        "id": "b0TOCz3cXcr3"
      },
      "execution_count": null,
      "outputs": []
    },
    {
      "cell_type": "code",
      "source": [
        "mobiles = soup.find_all(\"div\", attrs = {\"class\": \"_13oc-S\"})"
      ],
      "metadata": {
        "id": "3iCte_HPXgFP"
      },
      "execution_count": null,
      "outputs": []
    },
    {
      "cell_type": "code",
      "source": [
        "len(mobiles)"
      ],
      "metadata": {
        "id": "_P4eje3NXjSD"
      },
      "execution_count": null,
      "outputs": []
    },
    {
      "cell_type": "code",
      "source": [
        "mobile = mobiles[0]\n",
        "name = mobile.find(\"div\", attrs = {\"class\": \"_4rR01T\"})"
      ],
      "metadata": {
        "id": "fism0N1vXpN5"
      },
      "execution_count": null,
      "outputs": []
    },
    {
      "cell_type": "code",
      "source": [
        "name.text"
      ],
      "metadata": {
        "id": "wxF_pdOBZLQv"
      },
      "execution_count": null,
      "outputs": []
    },
    {
      "cell_type": "code",
      "source": [
        "price = mobile.find(\"div\", class_= \"_30jeq3 _1_WHN1\")"
      ],
      "metadata": {
        "id": "jM4BHFjCZLxO"
      },
      "execution_count": null,
      "outputs": []
    },
    {
      "cell_type": "code",
      "source": [
        "price.text"
      ],
      "metadata": {
        "id": "l2_qpyDRafER"
      },
      "execution_count": null,
      "outputs": []
    },
    {
      "cell_type": "code",
      "source": [
        "propeties = mobile.find_all(\"li\")"
      ],
      "metadata": {
        "id": "i2I4qSD4aiVA"
      },
      "execution_count": null,
      "outputs": []
    },
    {
      "cell_type": "code",
      "source": [
        "propeties"
      ],
      "metadata": {
        "colab": {
          "base_uri": "https://localhost:8080/"
        },
        "id": "ZvJbuJkcawE7",
        "outputId": "f940cb11-65c4-40ae-dd1c-27bf07c79101"
      },
      "execution_count": null,
      "outputs": [
        {
          "output_type": "execute_result",
          "data": {
            "text/plain": [
              "[<li class=\"rgWa7D\">4 GB RAM | 64 GB ROM | Expandable Upto 256 GB</li>,\n",
              " <li class=\"rgWa7D\">16.51 cm (6.5 inch) HD+ Display</li>,\n",
              " <li class=\"rgWa7D\">50MP + 2MP + 2MP | 8MP Front Camera</li>,\n",
              " <li class=\"rgWa7D\">6000 mAh Battery</li>,\n",
              " <li class=\"rgWa7D\">MediaTek Helio G85 Processor</li>,\n",
              " <li class=\"rgWa7D\">1 Year Warranty for Mobile and 6 Months for Accessories</li>]"
            ]
          },
          "metadata": {},
          "execution_count": 95
        }
      ]
    },
    {
      "cell_type": "code",
      "source": [
        "len(propeties)"
      ],
      "metadata": {
        "colab": {
          "base_uri": "https://localhost:8080/"
        },
        "id": "cHoR7cGTiBrl",
        "outputId": "00e3ff2f-6156-4ede-eeb4-cc149ce6eed9"
      },
      "execution_count": null,
      "outputs": [
        {
          "output_type": "execute_result",
          "data": {
            "text/plain": [
              "6"
            ]
          },
          "metadata": {},
          "execution_count": 96
        }
      ]
    },
    {
      "cell_type": "code",
      "source": [
        "ram = propeties[0]\n",
        "ram"
      ],
      "metadata": {
        "colab": {
          "base_uri": "https://localhost:8080/"
        },
        "id": "vEDWsKHaiBk8",
        "outputId": "690f96c8-1afb-418a-ad43-d340830154c8"
      },
      "execution_count": null,
      "outputs": [
        {
          "output_type": "execute_result",
          "data": {
            "text/plain": [
              "<li class=\"rgWa7D\">4 GB RAM | 64 GB ROM | Expandable Upto 256 GB</li>"
            ]
          },
          "metadata": {},
          "execution_count": 99
        }
      ]
    },
    {
      "cell_type": "code",
      "source": [
        "ram.text"
      ],
      "metadata": {
        "colab": {
          "base_uri": "https://localhost:8080/",
          "height": 35
        },
        "id": "66Rcb982iBef",
        "outputId": "9abefad5-1b1c-4918-9755-a517491652c1"
      },
      "execution_count": null,
      "outputs": [
        {
          "output_type": "execute_result",
          "data": {
            "application/vnd.google.colaboratory.intrinsic+json": {
              "type": "string"
            },
            "text/plain": [
              "'4 GB RAM | 64 GB ROM | Expandable Upto 256 GB'"
            ]
          },
          "metadata": {},
          "execution_count": 100
        }
      ]
    },
    {
      "cell_type": "code",
      "source": [
        "ram.text.split(\" \")"
      ],
      "metadata": {
        "colab": {
          "base_uri": "https://localhost:8080/"
        },
        "id": "UIBRWZKaiBaD",
        "outputId": "7e9a46c4-1ac0-4b02-8610-d7069bb6f405"
      },
      "execution_count": null,
      "outputs": [
        {
          "output_type": "execute_result",
          "data": {
            "text/plain": [
              "['4',\n",
              " 'GB',\n",
              " 'RAM',\n",
              " '|',\n",
              " '64',\n",
              " 'GB',\n",
              " 'ROM',\n",
              " '|',\n",
              " 'Expandable',\n",
              " 'Upto',\n",
              " '256',\n",
              " 'GB']"
            ]
          },
          "metadata": {},
          "execution_count": 102
        }
      ]
    },
    {
      "cell_type": "code",
      "source": [
        "ram.text.split(\" | \")"
      ],
      "metadata": {
        "colab": {
          "base_uri": "https://localhost:8080/"
        },
        "id": "fi5E8YYqiBUV",
        "outputId": "2132c94f-5bb5-4068-f04f-81cdfda6cffa"
      },
      "execution_count": null,
      "outputs": [
        {
          "output_type": "execute_result",
          "data": {
            "text/plain": [
              "['4 GB RAM', '64 GB ROM', 'Expandable Upto 256 GB']"
            ]
          },
          "metadata": {},
          "execution_count": 103
        }
      ]
    },
    {
      "cell_type": "code",
      "source": [
        "ram.text.split(\" | \")[0]"
      ],
      "metadata": {
        "colab": {
          "base_uri": "https://localhost:8080/",
          "height": 35
        },
        "id": "en0i3fMUiBQI",
        "outputId": "c09f8743-02a6-4c57-ed2c-02a04c43193c"
      },
      "execution_count": null,
      "outputs": [
        {
          "output_type": "execute_result",
          "data": {
            "application/vnd.google.colaboratory.intrinsic+json": {
              "type": "string"
            },
            "text/plain": [
              "'4 GB RAM'"
            ]
          },
          "metadata": {},
          "execution_count": 104
        }
      ]
    },
    {
      "cell_type": "code",
      "source": [
        ""
      ],
      "metadata": {
        "id": "W3-RZpuCiBMO"
      },
      "execution_count": null,
      "outputs": []
    },
    {
      "cell_type": "code",
      "source": [
        "names = []\n",
        "prices = []\n",
        "rams = []\n",
        "\n",
        "for mobile in mobiles:\n",
        "  name = mobile.find(\"div\", attrs = {\"class\": \"_4rR01T\"}).text\n",
        "  price = mobile.find(\"div\", class_= \"_30jeq3 _1_WHN1\").text\n",
        "  ram = mobile.find_all(\"li\")[0].text.split(\" | \")[0]\n",
        "\n",
        "  names.append(name)\n",
        "  prices.append(price)\n",
        "  rams.append(ram)\n"
      ],
      "metadata": {
        "id": "zH88uOM5g9p1"
      },
      "execution_count": null,
      "outputs": []
    },
    {
      "cell_type": "code",
      "source": [
        "names"
      ],
      "metadata": {
        "colab": {
          "base_uri": "https://localhost:8080/"
        },
        "id": "lIvzDCshhrlD",
        "outputId": "94cc0a1f-4596-4d5c-9661-8facb26627bb"
      },
      "execution_count": null,
      "outputs": [
        {
          "output_type": "execute_result",
          "data": {
            "text/plain": [
              "['realme Narzo 50A (Oxygen Blue, 64 GB)',\n",
              " 'realme Narzo 50A (Oxygen Green, 64 GB)',\n",
              " 'realme Narzo 50A (Oxygen Green, 128 GB)',\n",
              " 'realme Narzo 50A (Oxygen Blue, 128 GB)',\n",
              " 'realme 8i (Space Purple, 64 GB)',\n",
              " 'realme 8i (Space Black, 64 GB)',\n",
              " 'realme 8i (Space Black, 128 GB)',\n",
              " 'realme 8i (Space Purple, 128 GB)',\n",
              " 'realme C21Y (Cross Blue, 64 GB)',\n",
              " 'realme C21Y (Cross Blue, 32 GB)',\n",
              " 'realme C21Y (Cross Black, 32 GB)',\n",
              " 'realme C21Y (Cross Black, 64 GB)',\n",
              " 'realme C11 2021 (Cool Grey, 32 GB)',\n",
              " 'realme C11 2021 (Cool Blue, 64 GB)',\n",
              " 'realme C11 2021 (Cool Blue, 32 GB)',\n",
              " 'realme 9i (Prism Black, 128 GB)',\n",
              " 'realme 9i (Prism Blue, 128 GB)',\n",
              " 'realme 9i (Prism Blue, 64 GB)',\n",
              " 'realme 9i (Prism Black, 64 GB)',\n",
              " 'realme C11 2021 (Cool Grey, 64 GB)',\n",
              " 'realme 8 (Cyber Black, 128 GB)',\n",
              " 'realme 8 (Cyber Silver, 128 GB)',\n",
              " 'realme 8 (Cyber Silver, 128 GB)',\n",
              " 'realme 8 (Cyber Black, 128 GB)']"
            ]
          },
          "metadata": {},
          "execution_count": 109
        }
      ]
    },
    {
      "cell_type": "code",
      "source": [
        "dist = {\"Model\": names, \"Price\": price, \"RAM\": ram}"
      ],
      "metadata": {
        "id": "0uedUMl6hzFw"
      },
      "execution_count": null,
      "outputs": []
    },
    {
      "cell_type": "code",
      "source": [
        "import pandas as pd\n",
        "df = pd.DataFrame(dist)"
      ],
      "metadata": {
        "id": "kCiatfVth0cR"
      },
      "execution_count": null,
      "outputs": []
    },
    {
      "cell_type": "code",
      "source": [
        "df"
      ],
      "metadata": {
        "colab": {
          "base_uri": "https://localhost:8080/",
          "height": 802
        },
        "id": "ufRp8jWNh1TI",
        "outputId": "ccc0f417-11d8-4e16-aae8-ed81471643e0"
      },
      "execution_count": null,
      "outputs": [
        {
          "output_type": "execute_result",
          "data": {
            "text/html": [
              "\n",
              "  <div id=\"df-ce41e901-16fa-4223-acf3-2150d7b4c1d1\">\n",
              "    <div class=\"colab-df-container\">\n",
              "      <div>\n",
              "<style scoped>\n",
              "    .dataframe tbody tr th:only-of-type {\n",
              "        vertical-align: middle;\n",
              "    }\n",
              "\n",
              "    .dataframe tbody tr th {\n",
              "        vertical-align: top;\n",
              "    }\n",
              "\n",
              "    .dataframe thead th {\n",
              "        text-align: right;\n",
              "    }\n",
              "</style>\n",
              "<table border=\"1\" class=\"dataframe\">\n",
              "  <thead>\n",
              "    <tr style=\"text-align: right;\">\n",
              "      <th></th>\n",
              "      <th>Model</th>\n",
              "      <th>Price</th>\n",
              "      <th>RAM</th>\n",
              "    </tr>\n",
              "  </thead>\n",
              "  <tbody>\n",
              "    <tr>\n",
              "      <th>0</th>\n",
              "      <td>realme Narzo 50A (Oxygen Blue, 64 GB)</td>\n",
              "      <td>₹17,999</td>\n",
              "      <td>8 GB RAM</td>\n",
              "    </tr>\n",
              "    <tr>\n",
              "      <th>1</th>\n",
              "      <td>realme Narzo 50A (Oxygen Green, 64 GB)</td>\n",
              "      <td>₹17,999</td>\n",
              "      <td>8 GB RAM</td>\n",
              "    </tr>\n",
              "    <tr>\n",
              "      <th>2</th>\n",
              "      <td>realme Narzo 50A (Oxygen Green, 128 GB)</td>\n",
              "      <td>₹17,999</td>\n",
              "      <td>8 GB RAM</td>\n",
              "    </tr>\n",
              "    <tr>\n",
              "      <th>3</th>\n",
              "      <td>realme Narzo 50A (Oxygen Blue, 128 GB)</td>\n",
              "      <td>₹17,999</td>\n",
              "      <td>8 GB RAM</td>\n",
              "    </tr>\n",
              "    <tr>\n",
              "      <th>4</th>\n",
              "      <td>realme 8i (Space Purple, 64 GB)</td>\n",
              "      <td>₹17,999</td>\n",
              "      <td>8 GB RAM</td>\n",
              "    </tr>\n",
              "    <tr>\n",
              "      <th>5</th>\n",
              "      <td>realme 8i (Space Black, 64 GB)</td>\n",
              "      <td>₹17,999</td>\n",
              "      <td>8 GB RAM</td>\n",
              "    </tr>\n",
              "    <tr>\n",
              "      <th>6</th>\n",
              "      <td>realme 8i (Space Black, 128 GB)</td>\n",
              "      <td>₹17,999</td>\n",
              "      <td>8 GB RAM</td>\n",
              "    </tr>\n",
              "    <tr>\n",
              "      <th>7</th>\n",
              "      <td>realme 8i (Space Purple, 128 GB)</td>\n",
              "      <td>₹17,999</td>\n",
              "      <td>8 GB RAM</td>\n",
              "    </tr>\n",
              "    <tr>\n",
              "      <th>8</th>\n",
              "      <td>realme C21Y (Cross Blue, 64 GB)</td>\n",
              "      <td>₹17,999</td>\n",
              "      <td>8 GB RAM</td>\n",
              "    </tr>\n",
              "    <tr>\n",
              "      <th>9</th>\n",
              "      <td>realme C21Y (Cross Blue, 32 GB)</td>\n",
              "      <td>₹17,999</td>\n",
              "      <td>8 GB RAM</td>\n",
              "    </tr>\n",
              "    <tr>\n",
              "      <th>10</th>\n",
              "      <td>realme C21Y (Cross Black, 32 GB)</td>\n",
              "      <td>₹17,999</td>\n",
              "      <td>8 GB RAM</td>\n",
              "    </tr>\n",
              "    <tr>\n",
              "      <th>11</th>\n",
              "      <td>realme C21Y (Cross Black, 64 GB)</td>\n",
              "      <td>₹17,999</td>\n",
              "      <td>8 GB RAM</td>\n",
              "    </tr>\n",
              "    <tr>\n",
              "      <th>12</th>\n",
              "      <td>realme C11 2021 (Cool Grey, 32 GB)</td>\n",
              "      <td>₹17,999</td>\n",
              "      <td>8 GB RAM</td>\n",
              "    </tr>\n",
              "    <tr>\n",
              "      <th>13</th>\n",
              "      <td>realme C11 2021 (Cool Blue, 64 GB)</td>\n",
              "      <td>₹17,999</td>\n",
              "      <td>8 GB RAM</td>\n",
              "    </tr>\n",
              "    <tr>\n",
              "      <th>14</th>\n",
              "      <td>realme C11 2021 (Cool Blue, 32 GB)</td>\n",
              "      <td>₹17,999</td>\n",
              "      <td>8 GB RAM</td>\n",
              "    </tr>\n",
              "    <tr>\n",
              "      <th>15</th>\n",
              "      <td>realme 9i (Prism Black, 128 GB)</td>\n",
              "      <td>₹17,999</td>\n",
              "      <td>8 GB RAM</td>\n",
              "    </tr>\n",
              "    <tr>\n",
              "      <th>16</th>\n",
              "      <td>realme 9i (Prism Blue, 128 GB)</td>\n",
              "      <td>₹17,999</td>\n",
              "      <td>8 GB RAM</td>\n",
              "    </tr>\n",
              "    <tr>\n",
              "      <th>17</th>\n",
              "      <td>realme 9i (Prism Blue, 64 GB)</td>\n",
              "      <td>₹17,999</td>\n",
              "      <td>8 GB RAM</td>\n",
              "    </tr>\n",
              "    <tr>\n",
              "      <th>18</th>\n",
              "      <td>realme 9i (Prism Black, 64 GB)</td>\n",
              "      <td>₹17,999</td>\n",
              "      <td>8 GB RAM</td>\n",
              "    </tr>\n",
              "    <tr>\n",
              "      <th>19</th>\n",
              "      <td>realme C11 2021 (Cool Grey, 64 GB)</td>\n",
              "      <td>₹17,999</td>\n",
              "      <td>8 GB RAM</td>\n",
              "    </tr>\n",
              "    <tr>\n",
              "      <th>20</th>\n",
              "      <td>realme 8 (Cyber Black, 128 GB)</td>\n",
              "      <td>₹17,999</td>\n",
              "      <td>8 GB RAM</td>\n",
              "    </tr>\n",
              "    <tr>\n",
              "      <th>21</th>\n",
              "      <td>realme 8 (Cyber Silver, 128 GB)</td>\n",
              "      <td>₹17,999</td>\n",
              "      <td>8 GB RAM</td>\n",
              "    </tr>\n",
              "    <tr>\n",
              "      <th>22</th>\n",
              "      <td>realme 8 (Cyber Silver, 128 GB)</td>\n",
              "      <td>₹17,999</td>\n",
              "      <td>8 GB RAM</td>\n",
              "    </tr>\n",
              "    <tr>\n",
              "      <th>23</th>\n",
              "      <td>realme 8 (Cyber Black, 128 GB)</td>\n",
              "      <td>₹17,999</td>\n",
              "      <td>8 GB RAM</td>\n",
              "    </tr>\n",
              "  </tbody>\n",
              "</table>\n",
              "</div>\n",
              "      <button class=\"colab-df-convert\" onclick=\"convertToInteractive('df-ce41e901-16fa-4223-acf3-2150d7b4c1d1')\"\n",
              "              title=\"Convert this dataframe to an interactive table.\"\n",
              "              style=\"display:none;\">\n",
              "        \n",
              "  <svg xmlns=\"http://www.w3.org/2000/svg\" height=\"24px\"viewBox=\"0 0 24 24\"\n",
              "       width=\"24px\">\n",
              "    <path d=\"M0 0h24v24H0V0z\" fill=\"none\"/>\n",
              "    <path d=\"M18.56 5.44l.94 2.06.94-2.06 2.06-.94-2.06-.94-.94-2.06-.94 2.06-2.06.94zm-11 1L8.5 8.5l.94-2.06 2.06-.94-2.06-.94L8.5 2.5l-.94 2.06-2.06.94zm10 10l.94 2.06.94-2.06 2.06-.94-2.06-.94-.94-2.06-.94 2.06-2.06.94z\"/><path d=\"M17.41 7.96l-1.37-1.37c-.4-.4-.92-.59-1.43-.59-.52 0-1.04.2-1.43.59L10.3 9.45l-7.72 7.72c-.78.78-.78 2.05 0 2.83L4 21.41c.39.39.9.59 1.41.59.51 0 1.02-.2 1.41-.59l7.78-7.78 2.81-2.81c.8-.78.8-2.07 0-2.86zM5.41 20L4 18.59l7.72-7.72 1.47 1.35L5.41 20z\"/>\n",
              "  </svg>\n",
              "      </button>\n",
              "      \n",
              "  <style>\n",
              "    .colab-df-container {\n",
              "      display:flex;\n",
              "      flex-wrap:wrap;\n",
              "      gap: 12px;\n",
              "    }\n",
              "\n",
              "    .colab-df-convert {\n",
              "      background-color: #E8F0FE;\n",
              "      border: none;\n",
              "      border-radius: 50%;\n",
              "      cursor: pointer;\n",
              "      display: none;\n",
              "      fill: #1967D2;\n",
              "      height: 32px;\n",
              "      padding: 0 0 0 0;\n",
              "      width: 32px;\n",
              "    }\n",
              "\n",
              "    .colab-df-convert:hover {\n",
              "      background-color: #E2EBFA;\n",
              "      box-shadow: 0px 1px 2px rgba(60, 64, 67, 0.3), 0px 1px 3px 1px rgba(60, 64, 67, 0.15);\n",
              "      fill: #174EA6;\n",
              "    }\n",
              "\n",
              "    [theme=dark] .colab-df-convert {\n",
              "      background-color: #3B4455;\n",
              "      fill: #D2E3FC;\n",
              "    }\n",
              "\n",
              "    [theme=dark] .colab-df-convert:hover {\n",
              "      background-color: #434B5C;\n",
              "      box-shadow: 0px 1px 3px 1px rgba(0, 0, 0, 0.15);\n",
              "      filter: drop-shadow(0px 1px 2px rgba(0, 0, 0, 0.3));\n",
              "      fill: #FFFFFF;\n",
              "    }\n",
              "  </style>\n",
              "\n",
              "      <script>\n",
              "        const buttonEl =\n",
              "          document.querySelector('#df-ce41e901-16fa-4223-acf3-2150d7b4c1d1 button.colab-df-convert');\n",
              "        buttonEl.style.display =\n",
              "          google.colab.kernel.accessAllowed ? 'block' : 'none';\n",
              "\n",
              "        async function convertToInteractive(key) {\n",
              "          const element = document.querySelector('#df-ce41e901-16fa-4223-acf3-2150d7b4c1d1');\n",
              "          const dataTable =\n",
              "            await google.colab.kernel.invokeFunction('convertToInteractive',\n",
              "                                                     [key], {});\n",
              "          if (!dataTable) return;\n",
              "\n",
              "          const docLinkHtml = 'Like what you see? Visit the ' +\n",
              "            '<a target=\"_blank\" href=https://colab.research.google.com/notebooks/data_table.ipynb>data table notebook</a>'\n",
              "            + ' to learn more about interactive tables.';\n",
              "          element.innerHTML = '';\n",
              "          dataTable['output_type'] = 'display_data';\n",
              "          await google.colab.output.renderOutput(dataTable, element);\n",
              "          const docLink = document.createElement('div');\n",
              "          docLink.innerHTML = docLinkHtml;\n",
              "          element.appendChild(docLink);\n",
              "        }\n",
              "      </script>\n",
              "    </div>\n",
              "  </div>\n",
              "  "
            ],
            "text/plain": [
              "                                      Model    Price       RAM\n",
              "0     realme Narzo 50A (Oxygen Blue, 64 GB)  ₹17,999  8 GB RAM\n",
              "1    realme Narzo 50A (Oxygen Green, 64 GB)  ₹17,999  8 GB RAM\n",
              "2   realme Narzo 50A (Oxygen Green, 128 GB)  ₹17,999  8 GB RAM\n",
              "3    realme Narzo 50A (Oxygen Blue, 128 GB)  ₹17,999  8 GB RAM\n",
              "4           realme 8i (Space Purple, 64 GB)  ₹17,999  8 GB RAM\n",
              "5            realme 8i (Space Black, 64 GB)  ₹17,999  8 GB RAM\n",
              "6           realme 8i (Space Black, 128 GB)  ₹17,999  8 GB RAM\n",
              "7          realme 8i (Space Purple, 128 GB)  ₹17,999  8 GB RAM\n",
              "8           realme C21Y (Cross Blue, 64 GB)  ₹17,999  8 GB RAM\n",
              "9           realme C21Y (Cross Blue, 32 GB)  ₹17,999  8 GB RAM\n",
              "10         realme C21Y (Cross Black, 32 GB)  ₹17,999  8 GB RAM\n",
              "11         realme C21Y (Cross Black, 64 GB)  ₹17,999  8 GB RAM\n",
              "12       realme C11 2021 (Cool Grey, 32 GB)  ₹17,999  8 GB RAM\n",
              "13       realme C11 2021 (Cool Blue, 64 GB)  ₹17,999  8 GB RAM\n",
              "14       realme C11 2021 (Cool Blue, 32 GB)  ₹17,999  8 GB RAM\n",
              "15          realme 9i (Prism Black, 128 GB)  ₹17,999  8 GB RAM\n",
              "16           realme 9i (Prism Blue, 128 GB)  ₹17,999  8 GB RAM\n",
              "17            realme 9i (Prism Blue, 64 GB)  ₹17,999  8 GB RAM\n",
              "18           realme 9i (Prism Black, 64 GB)  ₹17,999  8 GB RAM\n",
              "19       realme C11 2021 (Cool Grey, 64 GB)  ₹17,999  8 GB RAM\n",
              "20           realme 8 (Cyber Black, 128 GB)  ₹17,999  8 GB RAM\n",
              "21          realme 8 (Cyber Silver, 128 GB)  ₹17,999  8 GB RAM\n",
              "22          realme 8 (Cyber Silver, 128 GB)  ₹17,999  8 GB RAM\n",
              "23           realme 8 (Cyber Black, 128 GB)  ₹17,999  8 GB RAM"
            ]
          },
          "metadata": {},
          "execution_count": 141
        }
      ]
    },
    {
      "cell_type": "markdown",
      "source": [
        "**Extract Url**"
      ],
      "metadata": {
        "id": "67DCsD7y4xG8"
      }
    },
    {
      "cell_type": "code",
      "source": [
        "mobile.a"
      ],
      "metadata": {
        "colab": {
          "base_uri": "https://localhost:8080/"
        },
        "id": "gjYdrtYClnIn",
        "outputId": "7ecc46da-49b4-4b6e-a8aa-92f689901ce5"
      },
      "execution_count": null,
      "outputs": [
        {
          "output_type": "execute_result",
          "data": {
            "text/plain": [
              "<a class=\"_1fQZEK\" href=\"/realme-narzo-30-5g-racing-blue-128-gb/p/itm56837fcb0d6f3?pid=MOBG3W3GCZ6FN5WJ&amp;lid=LSTMOBG3W3GCZ6FN5WJTQMY55&amp;marketplace=FLIPKART&amp;q=realme+mobile&amp;store=tyy%2F4io&amp;srno=s_1_24&amp;otracker=search&amp;fm=organic&amp;iid=4442e38f-eef3-4e08-a572-390e7c17b812.MOBG3W3GCZ6FN5WJ.SEARCH&amp;ppt=None&amp;ppn=None&amp;ssid=3ujywe21wg0000001652867100608&amp;qH=1fa38e164777fe68\" rel=\"noopener noreferrer\" target=\"_blank\"><div class=\"MIXNux\"><div class=\"_2QcLo-\"><div><div class=\"CXW8mj\" style=\"height:200px;width:200px\"><img alt=\"realme Narzo 30 5G (Racing Blue, 128 GB)\" class=\"_396cs4 _3exPp9\" src=\"https://rukminim1.flixcart.com/image/312/312/kq18n0w0/mobile/d/l/f/narzo-30-5g-rmx3242-realme-original-imag45yjdkgxddvh.jpeg?q=70\"/></div></div></div><div class=\"_3wLduG\"><div class=\"_3PzNI-\"><span class=\"f3A4_V\"><label class=\"_2iDkf8\"><input class=\"_30VH1S\" readonly=\"\" type=\"checkbox\"/><div class=\"_24_Dny\"></div></label></span><label class=\"_6Up2sF\"><span>Add to Compare</span></label></div></div><div class=\"_2hVSre _3nq8ih\"><div class=\"_36FSn5\"><svg class=\"_1l0elc\" height=\"16\" viewbox=\"0 0 20 16\" width=\"16\" xmlns=\"http://www.w3.org/2000/svg\"><path class=\"eX72wL\" d=\"M8.695 16.682C4.06 12.382 1 9.536 1 6.065 1 3.219 3.178 1 5.95 1c1.566 0 3.069.746 4.05 1.915C10.981 1.745 12.484 1 14.05 1 16.822 1 19 3.22 19 6.065c0 3.471-3.06 6.316-7.695 10.617L10 17.897l-1.305-1.215z\" fill=\"#2874F0\" fill-rule=\"evenodd\" opacity=\".9\" stroke=\"#FFF\"></path></svg></div></div></div><div class=\"_3pLy-c row\"><div class=\"col col-7-12\"><div class=\"_4rR01T\">realme Narzo 30 5G (Racing Blue, 128 GB)</div><div class=\"gUuXy-\"><span class=\"_1lRcqv\" id=\"productRating_LSTMOBG3W3GCZ6FN5WJTQMY55_MOBG3W3GCZ6FN5WJ_\"><div class=\"_3LWZlK\">4.3<img class=\"_1wB99o\" src=\"data:image/svg+xml;base64,PHN2ZyB4bWxucz0iaHR0cDovL3d3dy53My5vcmcvMjAwMC9zdmciIHdpZHRoPSIxMyIgaGVpZ2h0PSIxMiI+PHBhdGggZmlsbD0iI0ZGRiIgZD0iTTYuNSA5LjQzOWwtMy42NzQgMi4yMy45NC00LjI2LTMuMjEtMi44ODMgNC4yNTQtLjQwNEw2LjUuMTEybDEuNjkgNC4wMSA0LjI1NC40MDQtMy4yMSAyLjg4Mi45NCA0LjI2eiIvPjwvc3ZnPg==\"/></div></span><span class=\"_2_R_DZ\"><span><span>71,553 Ratings </span><span class=\"_13vcmD\">&amp;</span><span> 6,383 Reviews</span></span></span></div><div class=\"fMghEO\"><ul class=\"_1xgFaf\"><li class=\"rgWa7D\">6 GB RAM | 128 GB ROM | Expandable Upto 1 TB</li><li class=\"rgWa7D\">16.51 cm (6.5 inch) Full HD+ Display</li><li class=\"rgWa7D\">48MP + 2MP + 2MP | 16MP Front Camera</li><li class=\"rgWa7D\">5000 mAh Battery</li><li class=\"rgWa7D\">MediaTek Dimensity 700 (MT6833) Processor</li><li class=\"rgWa7D\">1 Year Warranty for Mobile and 6 Months for Accessories</li></ul></div></div><div class=\"col col-5-12 nlI3QM\"><div class=\"_3tbKJL\"><div class=\"_25b18c\"><div class=\"_30jeq3 _1_WHN1\">₹16,999</div><div class=\"_3I9_wc _27UcVY\">₹<!-- -->17,999</div><div class=\"_3Ay6Sb\"><span>5% off</span></div></div><div class=\"_3tcB5a p8ucoS\"><div><div class=\"_2Tpdn3\" style=\"color:#000000;font-size:12px;font-style:normal;font-weight:400\">Free delivery</div></div></div></div><div class=\"_13J9qT\"><img height=\"21\" src=\"//static-assets-web.flixcart.com/www/linchpin/fk-cp-zion/img/fa_62673a.png\"/></div><div class=\"_2ZdXDB\"><div class=\"_3xFhiH\"><div class=\"_2Tpdn3 _18hQoS\" style=\"color:#000000;font-size:14px;font-style:normal;font-weight:400\">Upto </div><div class=\"_2Tpdn3 _18hQoS\" style=\"color:#000000;font-size:14px;font-style:normal;font-weight:700\">₹16,250</div><div class=\"_2Tpdn3 _18hQoS\" style=\"color:#000000;font-size:14px;font-style:normal;font-weight:400\"> Off on Exchange</div></div></div></div></div></a>"
            ]
          },
          "metadata": {},
          "execution_count": 35
        }
      ]
    },
    {
      "cell_type": "code",
      "source": [
        "mobile.a.text"
      ],
      "metadata": {
        "colab": {
          "base_uri": "https://localhost:8080/",
          "height": 70
        },
        "id": "6A9vTV-plpmC",
        "outputId": "faebb1af-0271-4a2a-c1ea-121562a8c502"
      },
      "execution_count": null,
      "outputs": [
        {
          "output_type": "execute_result",
          "data": {
            "text/plain": [
              "'Add to Comparerealme Narzo 30 5G (Racing Blue, 128 GB)4.371,553 Ratings\\xa0&\\xa06,383 Reviews6 GB RAM | 128 GB ROM | Expandable Upto 1 TB16.51 cm (6.5 inch) Full HD+ Display48MP + 2MP + 2MP | 16MP Front Camera5000 mAh BatteryMediaTek Dimensity 700 (MT6833) Processor1 Year Warranty for Mobile and 6 Months for Accessories₹16,999₹17,9995% offFree deliveryUpto ₹16,250 Off on Exchange'"
            ],
            "application/vnd.google.colaboratory.intrinsic+json": {
              "type": "string"
            }
          },
          "metadata": {},
          "execution_count": 36
        }
      ]
    },
    {
      "cell_type": "code",
      "source": [
        "url = mobile.a[\"href\"]"
      ],
      "metadata": {
        "id": "-rKsaHVujd70"
      },
      "execution_count": null,
      "outputs": []
    },
    {
      "cell_type": "code",
      "source": [
        "url"
      ],
      "metadata": {
        "colab": {
          "base_uri": "https://localhost:8080/",
          "height": 53
        },
        "id": "_eUI1qVbkFeP",
        "outputId": "152c378d-8a12-4073-e11e-13e38aac47a6"
      },
      "execution_count": null,
      "outputs": [
        {
          "output_type": "execute_result",
          "data": {
            "text/plain": [
              "'/realme-narzo-30-5g-racing-blue-128-gb/p/itm56837fcb0d6f3?pid=MOBG3W3GCZ6FN5WJ&lid=LSTMOBG3W3GCZ6FN5WJTQMY55&marketplace=FLIPKART&q=realme+mobile&store=tyy%2F4io&srno=s_1_24&otracker=search&fm=organic&iid=4442e38f-eef3-4e08-a572-390e7c17b812.MOBG3W3GCZ6FN5WJ.SEARCH&ppt=None&ppn=None&ssid=3ujywe21wg0000001652867100608&qH=1fa38e164777fe68'"
            ],
            "application/vnd.google.colaboratory.intrinsic+json": {
              "type": "string"
            }
          },
          "metadata": {},
          "execution_count": 38
        }
      ]
    },
    {
      "cell_type": "code",
      "source": [
        "url = url.split(\"?\")[0]"
      ],
      "metadata": {
        "id": "forbNN3pkGMF"
      },
      "execution_count": null,
      "outputs": []
    },
    {
      "cell_type": "code",
      "source": [
        "url = \"https://www.flipkart.com\" + url"
      ],
      "metadata": {
        "id": "wsO5T0Kukg02"
      },
      "execution_count": null,
      "outputs": []
    },
    {
      "cell_type": "code",
      "source": [
        "url"
      ],
      "metadata": {
        "colab": {
          "base_uri": "https://localhost:8080/",
          "height": 35
        },
        "id": "KxO7o5SekhbX",
        "outputId": "9d119df1-b9c1-47d9-e84e-b0bfbfa35768"
      },
      "execution_count": null,
      "outputs": [
        {
          "output_type": "execute_result",
          "data": {
            "text/plain": [
              "'https://www.flipkart.com/realme-narzo-30-5g-racing-blue-128-gb/p/itm56837fcb0d6f3'"
            ],
            "application/vnd.google.colaboratory.intrinsic+json": {
              "type": "string"
            }
          },
          "metadata": {},
          "execution_count": 42
        }
      ]
    }
  ]
}